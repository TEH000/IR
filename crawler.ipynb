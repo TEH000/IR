{
 "cells": [
  {
   "cell_type": "code",
   "execution_count": 45,
   "metadata": {},
   "outputs": [],
   "source": [
    "def crawler_GameList():\n",
    "    \n",
    "#   import package\n",
    "    import requests\n",
    "    from bs4 import BeautifulSoup\n",
    "    \n",
    "#   set url parameters\n",
    "\n",
    "    global startIndex,games\n",
    "    headers ={\"User-Agent\":\"Mozilla/5.0 (Windows NT 10.0; Win64; x64) AppleWebKit/537.36 (KHTML, like Gecko) Chrome/52.0.2743.116 Safari/537.36 Edge/15.15063\"}\n",
    "    \n",
    "    p={'sortBy':'score',\"startIndex\":startIndex,\"score\":10}\n",
    "    startIndex+=25\n",
    "    \n",
    "    res = requests.get(\"http://www.ign.com/reviews/games\",params=p,headers=headers)\n",
    "    res.encoding = \"utf-8\"\n",
    "    # print(res.text)\n",
    "\n",
    "    soup = BeautifulSoup(res.text,\"html.parser\")\n",
    "    h3=soup.select('h3')\n",
    "    # print(h3)\n",
    "    for i in range(len(h3)):\n",
    "        a=h3[i].select('a')\n",
    "        games.append(a[0].text.replace(\"  \",\"\").replace('\\n',\"\"))\n"
   ]
  },
  {
   "cell_type": "code",
   "execution_count": 51,
   "metadata": {},
   "outputs": [
    {
     "ename": "SyntaxError",
     "evalue": "invalid syntax (<ipython-input-51-d66f70092f0a>, line 3)",
     "output_type": "error",
     "traceback": [
      "\u001b[1;36m  File \u001b[1;32m\"<ipython-input-51-d66f70092f0a>\"\u001b[1;36m, line \u001b[1;32m3\u001b[0m\n\u001b[1;33m    global startIndex=0\u001b[0m\n\u001b[1;37m                     ^\u001b[0m\n\u001b[1;31mSyntaxError\u001b[0m\u001b[1;31m:\u001b[0m invalid syntax\n"
     ]
    }
   ],
   "source": [
    "def get_GameList():\n",
    "    import threading\n",
    "    \n",
    "    global startIndex=0\n",
    "    global games=[]\n",
    "    thread1 = threading.Thread(target = crawler_GameList)\n",
    "    thread2 = threading.Thread(target = crawler_GameList)\n",
    "    thread3 = threading.Thread(target = crawler_GameList)\n",
    "    thread1.start()\n",
    "    thread2.start()\n",
    "    thread3.start()"
   ]
  },
  {
   "cell_type": "code",
   "execution_count": 52,
   "metadata": {},
   "outputs": [
    {
     "name": "stdout",
     "output_type": "stream",
     "text": [
      "['Shanghai', 'Grand Theft Auto IV', 'Metal Gear Solid V: The Phantom Pain', 'Inside', 'The Witness', 'The Witness', 'Undertale', 'Undertale', 'Undertale', 'Pokemon Silver Version', 'The Legend of Zelda: Oracle of Seasons', 'The Legend of Zelda: Oracle of Ages', 'The Legend of Zelda: Skyward Sword', 'Checkered Flag', 'Metal Gear Solid [2000]', 'Grand Theft Auto IV', 'Metal Gear Solid 4: Guns of the Patriots', 'Red Dead Redemption -- Undead Nightmare', 'Pac-Man Championship Edition DX', \"Uncharted 3: Drake's Deception\", 'Metal Gear Solid V: The Phantom Pain', 'The Legend of Zelda: Ocarina of Time', 'The Legend of Zelda: Ocarina of Time', 'The Legend of Zelda: Breath of the Wild', 'Celeste', 'Celeste', 'Soulcalibur', 'SNK vs. Capcom: Match of the Millennium', 'Pokemon Red Version', 'Pac-Man Championship Edition DX', 'Metal Gear Solid V: The Phantom Pain', 'Red Dead Redemption -- Undead Nightmare', 'Tornado Mania', 'Grand Theft Auto IV (Special Edition)', 'The Witness', 'Grand Theft Auto V', 'Grand Theft Auto V', 'Grand Theft Auto V', 'Inside', 'Super Mario Bros. Deluxe', 'Super Mario Galaxy 2', \"The Legend of Zelda: Link's Awakening DX\", 'The Legend of Zelda: Breath of the Wild', 'Super Mario Odyssey', 'Grand Theft Auto IV (Special Edition)', 'Metal Gear Solid 4: Guns of the Patriots (Limited Edition)', 'Magical Tetris Challenge', 'Pokemon Blue Version', 'Dragon Warrior III', 'The Last of Us: Remastered', 'Pokemon Gold Version', 'Joust', 'Mario Golf [Game Boy Color]', 'Grand Theft Auto V', 'Grand Theft Auto V', 'Inside', 'Celeste', 'Celeste', 'Chrono Trigger', 'Infinity Blade II', 'The Last of Us', 'Pokemon Yellow: Special Pikachu Edition', 'Sonic The Hedgehog: Pocket Adventure']\n"
     ]
    }
   ],
   "source": [
    "if __name__ =='__main__':\n",
    "    import threading\n",
    "    startIndex=0\n",
    "    games=[]\n",
    "    thread1 = threading.Thread(target = crawler_GameList)\n",
    "    thread2 = threading.Thread(target = crawler_GameList)\n",
    "    thread3 = threading.Thread(target = crawler_GameList)\n",
    "    \n",
    "    thread1.start()\n",
    "    thread2.start()\n",
    "    thread3.start()\n",
    "    \n",
    "    thread1.join()\n",
    "    thread2.join()\n",
    "    thread3.join()\n",
    "    \n",
    "    print(games)\n",
    "    \n",
    "    "
   ]
  },
  {
   "cell_type": "code",
   "execution_count": 63,
   "metadata": {},
   "outputs": [],
   "source": [
    "gameList= list(set(games))\n",
    "\n",
    "file = open(\"D:/Study/IR/final_project/doc/gamelist_score10.txt\",\"w\",encoding=\"utf-8\")\n",
    "for game in gameList:\n",
    "    file.write(game+\"\\n\")\n",
    "\n",
    "file.close()\n",
    "    "
   ]
  }
 ],
 "metadata": {
  "kernelspec": {
   "display_name": "Python 3",
   "language": "python",
   "name": "python3"
  },
  "language_info": {
   "codemirror_mode": {
    "name": "ipython",
    "version": 3
   },
   "file_extension": ".py",
   "mimetype": "text/x-python",
   "name": "python",
   "nbconvert_exporter": "python",
   "pygments_lexer": "ipython3",
   "version": "3.6.1"
  }
 },
 "nbformat": 4,
 "nbformat_minor": 2
}
